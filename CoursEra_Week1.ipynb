{
 "cells": [
  {
   "cell_type": "markdown",
   "id": "d5f1a9cb",
   "metadata": {},
   "source": [
    "### This notebook will be used mainly for the capstone project from coursera."
   ]
  },
  {
   "cell_type": "code",
   "execution_count": 1,
   "id": "23dd3238",
   "metadata": {
    "ExecuteTime": {
     "end_time": "2021-08-02T06:48:41.519147Z",
     "start_time": "2021-08-02T06:48:39.786064Z"
    }
   },
   "outputs": [],
   "source": [
    "# Importing the libraries\n",
    "import pandas as pd\n",
    "import numpy as np"
   ]
  },
  {
   "cell_type": "code",
   "execution_count": 2,
   "id": "55809e1d",
   "metadata": {
    "ExecuteTime": {
     "end_time": "2021-08-02T06:49:10.400988Z",
     "start_time": "2021-08-02T06:49:10.388978Z"
    }
   },
   "outputs": [
    {
     "name": "stdout",
     "output_type": "stream",
     "text": [
      "Hello Capstone Project Course!\n"
     ]
    }
   ],
   "source": [
    "print('Hello Capstone Project Course!')"
   ]
  },
  {
   "cell_type": "code",
   "execution_count": null,
   "id": "fbf89d6a",
   "metadata": {},
   "outputs": [],
   "source": []
  }
 ],
 "metadata": {
  "kernelspec": {
   "display_name": "Python 3",
   "language": "python",
   "name": "python3"
  },
  "language_info": {
   "codemirror_mode": {
    "name": "ipython",
    "version": 3
   },
   "file_extension": ".py",
   "mimetype": "text/x-python",
   "name": "python",
   "nbconvert_exporter": "python",
   "pygments_lexer": "ipython3",
   "version": "3.8.10"
  },
  "nbTranslate": {
   "displayLangs": [
    "*"
   ],
   "hotkey": "alt-t",
   "langInMainMenu": true,
   "sourceLang": "en",
   "targetLang": "fr",
   "useGoogleTranslate": true
  }
 },
 "nbformat": 4,
 "nbformat_minor": 5
}
